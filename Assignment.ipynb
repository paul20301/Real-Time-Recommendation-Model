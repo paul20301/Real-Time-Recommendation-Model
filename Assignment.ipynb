{
  "nbformat": 4,
  "nbformat_minor": 0,
  "metadata": {
    "colab": {
      "provenance": [],
      "authorship_tag": "ABX9TyOqawJ0Lqa2CMx2a+xmhJZK",
      "include_colab_link": true
    },
    "kernelspec": {
      "name": "python3",
      "display_name": "Python 3"
    },
    "language_info": {
      "name": "python"
    },
    "widgets": {
      "application/vnd.jupyter.widget-state+json": {
        "0a61e320308e49ad9048ce2b1c402e7c": {
          "model_module": "@jupyter-widgets/controls",
          "model_name": "VBoxModel",
          "model_module_version": "1.5.0",
          "state": {
            "_dom_classes": [
              "widget-interact"
            ],
            "_model_module": "@jupyter-widgets/controls",
            "_model_module_version": "1.5.0",
            "_model_name": "VBoxModel",
            "_view_count": null,
            "_view_module": "@jupyter-widgets/controls",
            "_view_module_version": "1.5.0",
            "_view_name": "VBoxView",
            "box_style": "",
            "children": [
              "IPY_MODEL_044f08cd8d574645a7d25a075b7d1b02",
              "IPY_MODEL_488dddf552eb475a8ae8e2edb774c424"
            ],
            "layout": "IPY_MODEL_6d945817e61748f5a1f674d2ecd1888f"
          }
        },
        "044f08cd8d574645a7d25a075b7d1b02": {
          "model_module": "@jupyter-widgets/controls",
          "model_name": "IntSliderModel",
          "model_module_version": "1.5.0",
          "state": {
            "_dom_classes": [],
            "_model_module": "@jupyter-widgets/controls",
            "_model_module_version": "1.5.0",
            "_model_name": "IntSliderModel",
            "_view_count": null,
            "_view_module": "@jupyter-widgets/controls",
            "_view_module_version": "1.5.0",
            "_view_name": "IntSliderView",
            "continuous_update": true,
            "description": "user_id",
            "description_tooltip": null,
            "disabled": false,
            "layout": "IPY_MODEL_62de0d77945a4407a78ba77fc92c59c0",
            "max": 100,
            "min": 1,
            "orientation": "horizontal",
            "readout": true,
            "readout_format": "d",
            "step": 1,
            "style": "IPY_MODEL_2aece5d655464ea3ab23d559d4da0e1a",
            "value": 61
          }
        },
        "488dddf552eb475a8ae8e2edb774c424": {
          "model_module": "@jupyter-widgets/output",
          "model_name": "OutputModel",
          "model_module_version": "1.0.0",
          "state": {
            "_dom_classes": [],
            "_model_module": "@jupyter-widgets/output",
            "_model_module_version": "1.0.0",
            "_model_name": "OutputModel",
            "_view_count": null,
            "_view_module": "@jupyter-widgets/output",
            "_view_module_version": "1.0.0",
            "_view_name": "OutputView",
            "layout": "IPY_MODEL_80a1a61c33364959804f0c5345b17497",
            "msg_id": "",
            "outputs": [
              {
                "output_type": "stream",
                "name": "stdout",
                "text": [
                  "Top 4 recommendations for User 61: [50, 100, 200, 1]\n"
                ]
              }
            ]
          }
        },
        "6d945817e61748f5a1f674d2ecd1888f": {
          "model_module": "@jupyter-widgets/base",
          "model_name": "LayoutModel",
          "model_module_version": "1.2.0",
          "state": {
            "_model_module": "@jupyter-widgets/base",
            "_model_module_version": "1.2.0",
            "_model_name": "LayoutModel",
            "_view_count": null,
            "_view_module": "@jupyter-widgets/base",
            "_view_module_version": "1.2.0",
            "_view_name": "LayoutView",
            "align_content": null,
            "align_items": null,
            "align_self": null,
            "border": null,
            "bottom": null,
            "display": null,
            "flex": null,
            "flex_flow": null,
            "grid_area": null,
            "grid_auto_columns": null,
            "grid_auto_flow": null,
            "grid_auto_rows": null,
            "grid_column": null,
            "grid_gap": null,
            "grid_row": null,
            "grid_template_areas": null,
            "grid_template_columns": null,
            "grid_template_rows": null,
            "height": null,
            "justify_content": null,
            "justify_items": null,
            "left": null,
            "margin": null,
            "max_height": null,
            "max_width": null,
            "min_height": null,
            "min_width": null,
            "object_fit": null,
            "object_position": null,
            "order": null,
            "overflow": null,
            "overflow_x": null,
            "overflow_y": null,
            "padding": null,
            "right": null,
            "top": null,
            "visibility": null,
            "width": null
          }
        },
        "62de0d77945a4407a78ba77fc92c59c0": {
          "model_module": "@jupyter-widgets/base",
          "model_name": "LayoutModel",
          "model_module_version": "1.2.0",
          "state": {
            "_model_module": "@jupyter-widgets/base",
            "_model_module_version": "1.2.0",
            "_model_name": "LayoutModel",
            "_view_count": null,
            "_view_module": "@jupyter-widgets/base",
            "_view_module_version": "1.2.0",
            "_view_name": "LayoutView",
            "align_content": null,
            "align_items": null,
            "align_self": null,
            "border": null,
            "bottom": null,
            "display": null,
            "flex": null,
            "flex_flow": null,
            "grid_area": null,
            "grid_auto_columns": null,
            "grid_auto_flow": null,
            "grid_auto_rows": null,
            "grid_column": null,
            "grid_gap": null,
            "grid_row": null,
            "grid_template_areas": null,
            "grid_template_columns": null,
            "grid_template_rows": null,
            "height": null,
            "justify_content": null,
            "justify_items": null,
            "left": null,
            "margin": null,
            "max_height": null,
            "max_width": null,
            "min_height": null,
            "min_width": null,
            "object_fit": null,
            "object_position": null,
            "order": null,
            "overflow": null,
            "overflow_x": null,
            "overflow_y": null,
            "padding": null,
            "right": null,
            "top": null,
            "visibility": null,
            "width": null
          }
        },
        "2aece5d655464ea3ab23d559d4da0e1a": {
          "model_module": "@jupyter-widgets/controls",
          "model_name": "SliderStyleModel",
          "model_module_version": "1.5.0",
          "state": {
            "_model_module": "@jupyter-widgets/controls",
            "_model_module_version": "1.5.0",
            "_model_name": "SliderStyleModel",
            "_view_count": null,
            "_view_module": "@jupyter-widgets/base",
            "_view_module_version": "1.2.0",
            "_view_name": "StyleView",
            "description_width": "",
            "handle_color": null
          }
        },
        "80a1a61c33364959804f0c5345b17497": {
          "model_module": "@jupyter-widgets/base",
          "model_name": "LayoutModel",
          "model_module_version": "1.2.0",
          "state": {
            "_model_module": "@jupyter-widgets/base",
            "_model_module_version": "1.2.0",
            "_model_name": "LayoutModel",
            "_view_count": null,
            "_view_module": "@jupyter-widgets/base",
            "_view_module_version": "1.2.0",
            "_view_name": "LayoutView",
            "align_content": null,
            "align_items": null,
            "align_self": null,
            "border": null,
            "bottom": null,
            "display": null,
            "flex": null,
            "flex_flow": null,
            "grid_area": null,
            "grid_auto_columns": null,
            "grid_auto_flow": null,
            "grid_auto_rows": null,
            "grid_column": null,
            "grid_gap": null,
            "grid_row": null,
            "grid_template_areas": null,
            "grid_template_columns": null,
            "grid_template_rows": null,
            "height": null,
            "justify_content": null,
            "justify_items": null,
            "left": null,
            "margin": null,
            "max_height": null,
            "max_width": null,
            "min_height": null,
            "min_width": null,
            "object_fit": null,
            "object_position": null,
            "order": null,
            "overflow": null,
            "overflow_x": null,
            "overflow_y": null,
            "padding": null,
            "right": null,
            "top": null,
            "visibility": null,
            "width": null
          }
        }
      }
    }
  },
  "cells": [
    {
      "cell_type": "markdown",
      "metadata": {
        "id": "view-in-github",
        "colab_type": "text"
      },
      "source": [
        "<a href=\"https://colab.research.google.com/github/paul20301/Real-Time-Recommendation-Model/blob/main/Assignment.ipynb\" target=\"_parent\"><img src=\"https://colab.research.google.com/assets/colab-badge.svg\" alt=\"Open In Colab\"/></a>"
      ]
    },
    {
      "cell_type": "code",
      "source": [
        "import pandas as pd\n",
        "from surprise import Dataset, Reader\n",
        "\n",
        "url = \"https://files.grouplens.org/datasets/movielens/ml-100k/u.data\"\n",
        "columns = ['user_id', 'item_id', 'rating', 'timestamp']\n",
        "data = pd.read_csv(url, sep='\\t', names=columns)\n",
        "\n",
        "print(data.head())\n",
        "\n",
        "reader = Reader(rating_scale=(1, 5))\n",
        "data_surprise = Dataset.load_from_df(data[['user_id', 'item_id', 'rating']], reader)\n"
      ],
      "metadata": {
        "colab": {
          "base_uri": "https://localhost:8080/"
        },
        "id": "MVI-VKsuc9_n",
        "outputId": "b8af5e4e-b568-41fa-c947-ec633022f35f"
      },
      "execution_count": 2,
      "outputs": [
        {
          "output_type": "stream",
          "name": "stdout",
          "text": [
            "   user_id  item_id  rating  timestamp\n",
            "0      196      242       3  881250949\n",
            "1      186      302       3  891717742\n",
            "2       22      377       1  878887116\n",
            "3      244       51       2  880606923\n",
            "4      166      346       1  886397596\n"
          ]
        }
      ]
    },
    {
      "cell_type": "code",
      "source": [
        "from surprise import SVD\n",
        "from surprise.model_selection import cross_validate\n",
        "\n",
        "model = SVD()\n",
        "cross_validate(model, data_surprise, cv=5, verbose=True)\n",
        "\n",
        "trainset = data_surprise.build_full_trainset()\n",
        "model.fit(trainset)\n",
        "\n",
        "user_id, item_id = 1, 50\n",
        "predicted_rating = model.predict(user_id, item_id)\n",
        "print(f\"Predicted rating for User {user_id} and Item {item_id}: {predicted_rating.est}\")\n"
      ],
      "metadata": {
        "colab": {
          "base_uri": "https://localhost:8080/"
        },
        "id": "vs7NbbkDdYeO",
        "outputId": "e7d3bbb8-a6d4-41a1-8a7d-d845d9be3ca9"
      },
      "execution_count": 3,
      "outputs": [
        {
          "output_type": "stream",
          "name": "stdout",
          "text": [
            "Evaluating RMSE, MAE of algorithm SVD on 5 split(s).\n",
            "\n",
            "                  Fold 1  Fold 2  Fold 3  Fold 4  Fold 5  Mean    Std     \n",
            "RMSE (testset)    0.9387  0.9347  0.9304  0.9372  0.9372  0.9357  0.0029  \n",
            "MAE (testset)     0.7381  0.7386  0.7326  0.7374  0.7394  0.7372  0.0024  \n",
            "Fit time          1.47    1.31    1.30    1.62    1.29    1.40    0.13    \n",
            "Test time         0.09    0.09    0.23    0.09    0.11    0.12    0.05    \n",
            "Predicted rating for User 1 and Item 50: 4.5488952753675544\n"
          ]
        }
      ]
    },
    {
      "cell_type": "code",
      "source": [
        "from sklearn.feature_extraction.text import TfidfVectorizer\n",
        "from sklearn.metrics.pairwise import cosine_similarity\n",
        "\n",
        "item_metadata = pd.DataFrame({\n",
        "    'item_id': [1, 50, 100, 200],\n",
        "    'tags': ['action, adventure', 'comedy, drama', 'horror, thriller', 'romance, comedy']\n",
        "})\n",
        "\n",
        "tfidf = TfidfVectorizer(stop_words='english')\n",
        "tfidf_matrix = tfidf.fit_transform(item_metadata['tags'])\n",
        "\n",
        "cosine_sim = cosine_similarity(tfidf_matrix)\n",
        "\n",
        "def recommend_content_based(item_id, cosine_sim, top_n=5):\n",
        "    item_idx = item_metadata[item_metadata['item_id'] == item_id].index[0]\n",
        "    similar_items = list(enumerate(cosine_sim[item_idx]))\n",
        "    similar_items = sorted(similar_items, key=lambda x: x[1], reverse=True)\n",
        "    recommended_items = [item_metadata.iloc[i[0]]['item_id'] for i in similar_items[1:top_n+1]]\n",
        "    return recommended_items\n",
        "\n",
        "\n",
        "recommended_items = recommend_content_based(1, cosine_sim)\n",
        "print(f\"Recommended items for Item 1: {recommended_items}\")\n"
      ],
      "metadata": {
        "colab": {
          "base_uri": "https://localhost:8080/"
        },
        "id": "sCslbFiXdbpL",
        "outputId": "749037e8-873d-444c-cac0-0881a6f656f5"
      },
      "execution_count": 4,
      "outputs": [
        {
          "output_type": "stream",
          "name": "stdout",
          "text": [
            "Recommended items for Item 1: [50, 100, 200]\n"
          ]
        }
      ]
    },
    {
      "cell_type": "code",
      "source": [
        "def hybrid_recommend(user_id, item_id, model, cosine_sim, alpha=0.5):\n",
        "\n",
        "    collaborative_score = model.predict(user_id, item_id).est\n",
        "\n",
        "\n",
        "    if item_id in item_metadata['item_id'].values:\n",
        "        content_recommendations = recommend_content_based(item_id, cosine_sim, top_n=1)\n",
        "        content_score = 1.0 if item_id in content_recommendations else 0.0\n",
        "    else:\n",
        "        content_score = 0.0\n",
        "\n",
        "\n",
        "    hybrid_score = alpha * collaborative_score + (1 - alpha) * content_score\n",
        "    return hybrid_score\n",
        "\n",
        "\n",
        "hybrid_score = hybrid_recommend(1, 50, model, cosine_sim)\n",
        "print(f\"Hybrid score for User 1 and Item 50: {hybrid_score}\")\n"
      ],
      "metadata": {
        "colab": {
          "base_uri": "https://localhost:8080/"
        },
        "id": "xSgKb38fdh82",
        "outputId": "de97de2b-f30b-4219-d24c-37a87692fe23"
      },
      "execution_count": 5,
      "outputs": [
        {
          "output_type": "stream",
          "name": "stdout",
          "text": [
            "Hybrid score for User 1 and Item 50: 2.2744476376837772\n"
          ]
        }
      ]
    },
    {
      "cell_type": "code",
      "source": [
        "def recommend_top_n(user_id, model, cosine_sim, n=5):\n",
        "\n",
        "    all_items = item_metadata['item_id'].tolist()\n",
        "    scores = [(item, hybrid_recommend(user_id, item, model, cosine_sim)) for item in all_items]\n",
        "    top_items = sorted(scores, key=lambda x: x[1], reverse=True)[:n]\n",
        "    return [item[0] for item in top_items]\n",
        "\n",
        "\n",
        "top_n_recommendations = recommend_top_n(1, model, cosine_sim)\n",
        "print(f\"Top-{len(top_n_recommendations)} recommendations for User 1: {top_n_recommendations}\")\n"
      ],
      "metadata": {
        "colab": {
          "base_uri": "https://localhost:8080/"
        },
        "id": "YPy1ZPzSdlgW",
        "outputId": "42397d4a-9e41-4269-fb31-3bc986e93046"
      },
      "execution_count": 6,
      "outputs": [
        {
          "output_type": "stream",
          "name": "stdout",
          "text": [
            "Top-4 recommendations for User 1: [100, 50, 1, 200]\n"
          ]
        }
      ]
    },
    {
      "cell_type": "code",
      "source": [
        "from surprise import accuracy\n",
        "from surprise.model_selection import train_test_split\n",
        "\n",
        "trainset, testset = train_test_split(data_surprise, test_size=0.2)\n",
        "model.fit(trainset)\n",
        "predictions = model.test(testset)\n",
        "\n",
        "rmse = accuracy.rmse(predictions)\n",
        "print(f\"RMSE: {rmse}\")\n"
      ],
      "metadata": {
        "colab": {
          "base_uri": "https://localhost:8080/"
        },
        "id": "rj6Q2hStdosU",
        "outputId": "207acdaa-9610-4e15-8620-9779a03acede"
      },
      "execution_count": 7,
      "outputs": [
        {
          "output_type": "stream",
          "name": "stdout",
          "text": [
            "RMSE: 0.9386\n",
            "RMSE: 0.9386316892706233\n"
          ]
        }
      ]
    },
    {
      "cell_type": "code",
      "source": [
        "def recommend_for_user(user_id, model, cosine_sim, top_n=5):\n",
        "\n",
        "    recommended_items = recommend_top_n(user_id, model, cosine_sim, n=top_n)\n",
        "    return recommended_items\n"
      ],
      "metadata": {
        "id": "iH8z1nbEd1PM"
      },
      "execution_count": 11,
      "outputs": []
    },
    {
      "cell_type": "code",
      "source": [
        "\n",
        "user_id = int(input(\"Enter User ID: \"))\n",
        "\n",
        "recommendations = recommend_for_user(user_id, model, cosine_sim, top_n=5)\n",
        "\n",
        "print(f\"Top {len(recommendations)} recommendations for User {user_id}: {recommendations}\")\n"
      ],
      "metadata": {
        "colab": {
          "base_uri": "https://localhost:8080/"
        },
        "id": "ZtzuySXYe5N_",
        "outputId": "ec66dffe-9743-4921-b3d9-1c4a4738946e"
      },
      "execution_count": 13,
      "outputs": [
        {
          "output_type": "stream",
          "name": "stdout",
          "text": [
            "Enter User ID: 2\n",
            "Top 4 recommendations for User 2: [100, 50, 200, 1]\n"
          ]
        }
      ]
    },
    {
      "cell_type": "code",
      "source": [
        "from ipywidgets import interact\n",
        "\n",
        "def interactive_recommendation(user_id):\n",
        "    recommendations = recommend_for_user(user_id, model, cosine_sim, top_n=5)\n",
        "    print(f\"Top {len(recommendations)} recommendations for User {user_id}: {recommendations}\")\n",
        "\n",
        "interact(interactive_recommendation, user_id=(1, 100))\n"
      ],
      "metadata": {
        "colab": {
          "base_uri": "https://localhost:8080/",
          "height": 153,
          "referenced_widgets": [
            "0a61e320308e49ad9048ce2b1c402e7c",
            "044f08cd8d574645a7d25a075b7d1b02",
            "488dddf552eb475a8ae8e2edb774c424",
            "6d945817e61748f5a1f674d2ecd1888f",
            "62de0d77945a4407a78ba77fc92c59c0",
            "2aece5d655464ea3ab23d559d4da0e1a",
            "80a1a61c33364959804f0c5345b17497"
          ]
        },
        "id": "7H5Obzgre6x5",
        "outputId": "7a058d73-faef-4a66-8365-6f6ae22c3212"
      },
      "execution_count": 14,
      "outputs": [
        {
          "output_type": "display_data",
          "data": {
            "text/plain": [
              "interactive(children=(IntSlider(value=50, description='user_id', min=1), Output()), _dom_classes=('widget-inte…"
            ],
            "application/vnd.jupyter.widget-view+json": {
              "version_major": 2,
              "version_minor": 0,
              "model_id": "0a61e320308e49ad9048ce2b1c402e7c"
            }
          },
          "metadata": {}
        },
        {
          "output_type": "execute_result",
          "data": {
            "text/plain": [
              "<function __main__.interactive_recommendation(user_id)>"
            ],
            "text/html": [
              "<div style=\"max-width:800px; border: 1px solid var(--colab-border-color);\"><style>\n",
              "      pre.function-repr-contents {\n",
              "        overflow-x: auto;\n",
              "        padding: 8px 12px;\n",
              "        max-height: 500px;\n",
              "      }\n",
              "\n",
              "      pre.function-repr-contents.function-repr-contents-collapsed {\n",
              "        cursor: pointer;\n",
              "        max-height: 100px;\n",
              "      }\n",
              "    </style>\n",
              "    <pre style=\"white-space: initial; background:\n",
              "         var(--colab-secondary-surface-color); padding: 8px 12px;\n",
              "         border-bottom: 1px solid var(--colab-border-color);\"><b>interactive_recommendation</b><br/>def interactive_recommendation(user_id)</pre><pre class=\"function-repr-contents function-repr-contents-collapsed\" style=\"\"><a class=\"filepath\" style=\"display:none\" href=\"#\">/content/&lt;ipython-input-14-9269bc9e820d&gt;</a>&lt;no docstring&gt;</pre></div>"
            ]
          },
          "metadata": {},
          "execution_count": 14
        }
      ]
    }
  ]
}